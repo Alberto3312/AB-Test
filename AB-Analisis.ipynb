{
 "cells": [
  {
   "cell_type": "markdown",
   "metadata": {},
   "source": [
    "# PROYECTO MODULO 2"
   ]
  },
  {
   "cell_type": "markdown",
   "metadata": {},
   "source": [
    "## Importar librerias"
   ]
  },
  {
   "cell_type": "code",
   "execution_count": 1,
   "metadata": {},
   "outputs": [],
   "source": [
    "import pandas as pd\n",
    "import matplotlib.pyplot as plt\n",
    "from scipy import stats as st\n",
    "import numpy as np\n",
    "import math as mth\n",
    "from statsmodels.stats.proportion import proportions_ztest"
   ]
  },
  {
   "cell_type": "markdown",
   "metadata": {},
   "source": [
    "## Abrir el archivo y leer la información general"
   ]
  },
  {
   "cell_type": "code",
   "execution_count": 2,
   "metadata": {},
   "outputs": [],
   "source": [
    "data = pd.read_csv('Data/logs_exp_us.csv', sep=\"\\t\")"
   ]
  },
  {
   "cell_type": "code",
   "execution_count": 3,
   "metadata": {},
   "outputs": [
    {
     "data": {
      "text/html": [
       "<div>\n",
       "<style scoped>\n",
       "    .dataframe tbody tr th:only-of-type {\n",
       "        vertical-align: middle;\n",
       "    }\n",
       "\n",
       "    .dataframe tbody tr th {\n",
       "        vertical-align: top;\n",
       "    }\n",
       "\n",
       "    .dataframe thead th {\n",
       "        text-align: right;\n",
       "    }\n",
       "</style>\n",
       "<table border=\"1\" class=\"dataframe\">\n",
       "  <thead>\n",
       "    <tr style=\"text-align: right;\">\n",
       "      <th></th>\n",
       "      <th>EventName</th>\n",
       "      <th>DeviceIDHash</th>\n",
       "      <th>EventTimestamp</th>\n",
       "      <th>ExpId</th>\n",
       "    </tr>\n",
       "  </thead>\n",
       "  <tbody>\n",
       "    <tr>\n",
       "      <th>0</th>\n",
       "      <td>MainScreenAppear</td>\n",
       "      <td>4575588528974610257</td>\n",
       "      <td>1564029816</td>\n",
       "      <td>246</td>\n",
       "    </tr>\n",
       "    <tr>\n",
       "      <th>1</th>\n",
       "      <td>MainScreenAppear</td>\n",
       "      <td>7416695313311560658</td>\n",
       "      <td>1564053102</td>\n",
       "      <td>246</td>\n",
       "    </tr>\n",
       "    <tr>\n",
       "      <th>2</th>\n",
       "      <td>PaymentScreenSuccessful</td>\n",
       "      <td>3518123091307005509</td>\n",
       "      <td>1564054127</td>\n",
       "      <td>248</td>\n",
       "    </tr>\n",
       "    <tr>\n",
       "      <th>3</th>\n",
       "      <td>CartScreenAppear</td>\n",
       "      <td>3518123091307005509</td>\n",
       "      <td>1564054127</td>\n",
       "      <td>248</td>\n",
       "    </tr>\n",
       "    <tr>\n",
       "      <th>4</th>\n",
       "      <td>PaymentScreenSuccessful</td>\n",
       "      <td>6217807653094995999</td>\n",
       "      <td>1564055322</td>\n",
       "      <td>248</td>\n",
       "    </tr>\n",
       "  </tbody>\n",
       "</table>\n",
       "</div>"
      ],
      "text/plain": [
       "                 EventName         DeviceIDHash  EventTimestamp  ExpId\n",
       "0         MainScreenAppear  4575588528974610257      1564029816    246\n",
       "1         MainScreenAppear  7416695313311560658      1564053102    246\n",
       "2  PaymentScreenSuccessful  3518123091307005509      1564054127    248\n",
       "3         CartScreenAppear  3518123091307005509      1564054127    248\n",
       "4  PaymentScreenSuccessful  6217807653094995999      1564055322    248"
      ]
     },
     "execution_count": 3,
     "metadata": {},
     "output_type": "execute_result"
    }
   ],
   "source": [
    "data.head()"
   ]
  },
  {
   "cell_type": "markdown",
   "metadata": {},
   "source": [
    "## Preparar los datos para el analisis"
   ]
  },
  {
   "cell_type": "code",
   "execution_count": 4,
   "metadata": {},
   "outputs": [],
   "source": [
    "## Cambiar el nombre de las columnas\n",
    "data.columns = ['Evento','Id_usuario','Evento_ts','Id_exp']"
   ]
  },
  {
   "cell_type": "code",
   "execution_count": 5,
   "metadata": {},
   "outputs": [
    {
     "name": "stdout",
     "output_type": "stream",
     "text": [
      "<class 'pandas.core.frame.DataFrame'>\n",
      "RangeIndex: 244126 entries, 0 to 244125\n",
      "Data columns (total 4 columns):\n",
      " #   Column      Non-Null Count   Dtype \n",
      "---  ------      --------------   ----- \n",
      " 0   Evento      244126 non-null  object\n",
      " 1   Id_usuario  244126 non-null  int64 \n",
      " 2   Evento_ts   244126 non-null  int64 \n",
      " 3   Id_exp      244126 non-null  int64 \n",
      "dtypes: int64(3), object(1)\n",
      "memory usage: 7.5+ MB\n"
     ]
    }
   ],
   "source": [
    "data.info()"
   ]
  },
  {
   "cell_type": "code",
   "execution_count": 6,
   "metadata": {},
   "outputs": [],
   "source": [
    "data['Evento_ts'] = pd.to_datetime(data['Evento_ts'], unit='s')\n",
    "\n",
    "data['Evento_fecha'] = data['Evento_ts'].dt.date"
   ]
  },
  {
   "cell_type": "code",
   "execution_count": 7,
   "metadata": {},
   "outputs": [
    {
     "data": {
      "text/html": [
       "<div>\n",
       "<style scoped>\n",
       "    .dataframe tbody tr th:only-of-type {\n",
       "        vertical-align: middle;\n",
       "    }\n",
       "\n",
       "    .dataframe tbody tr th {\n",
       "        vertical-align: top;\n",
       "    }\n",
       "\n",
       "    .dataframe thead th {\n",
       "        text-align: right;\n",
       "    }\n",
       "</style>\n",
       "<table border=\"1\" class=\"dataframe\">\n",
       "  <thead>\n",
       "    <tr style=\"text-align: right;\">\n",
       "      <th></th>\n",
       "      <th>Evento</th>\n",
       "      <th>Id_usuario</th>\n",
       "      <th>Evento_ts</th>\n",
       "      <th>Id_exp</th>\n",
       "      <th>Evento_fecha</th>\n",
       "    </tr>\n",
       "  </thead>\n",
       "  <tbody>\n",
       "    <tr>\n",
       "      <th>0</th>\n",
       "      <td>MainScreenAppear</td>\n",
       "      <td>4575588528974610257</td>\n",
       "      <td>2019-07-25 04:43:36</td>\n",
       "      <td>246</td>\n",
       "      <td>2019-07-25</td>\n",
       "    </tr>\n",
       "    <tr>\n",
       "      <th>1</th>\n",
       "      <td>MainScreenAppear</td>\n",
       "      <td>7416695313311560658</td>\n",
       "      <td>2019-07-25 11:11:42</td>\n",
       "      <td>246</td>\n",
       "      <td>2019-07-25</td>\n",
       "    </tr>\n",
       "    <tr>\n",
       "      <th>2</th>\n",
       "      <td>PaymentScreenSuccessful</td>\n",
       "      <td>3518123091307005509</td>\n",
       "      <td>2019-07-25 11:28:47</td>\n",
       "      <td>248</td>\n",
       "      <td>2019-07-25</td>\n",
       "    </tr>\n",
       "    <tr>\n",
       "      <th>3</th>\n",
       "      <td>CartScreenAppear</td>\n",
       "      <td>3518123091307005509</td>\n",
       "      <td>2019-07-25 11:28:47</td>\n",
       "      <td>248</td>\n",
       "      <td>2019-07-25</td>\n",
       "    </tr>\n",
       "    <tr>\n",
       "      <th>4</th>\n",
       "      <td>PaymentScreenSuccessful</td>\n",
       "      <td>6217807653094995999</td>\n",
       "      <td>2019-07-25 11:48:42</td>\n",
       "      <td>248</td>\n",
       "      <td>2019-07-25</td>\n",
       "    </tr>\n",
       "  </tbody>\n",
       "</table>\n",
       "</div>"
      ],
      "text/plain": [
       "                    Evento           Id_usuario           Evento_ts  Id_exp  \\\n",
       "0         MainScreenAppear  4575588528974610257 2019-07-25 04:43:36     246   \n",
       "1         MainScreenAppear  7416695313311560658 2019-07-25 11:11:42     246   \n",
       "2  PaymentScreenSuccessful  3518123091307005509 2019-07-25 11:28:47     248   \n",
       "3         CartScreenAppear  3518123091307005509 2019-07-25 11:28:47     248   \n",
       "4  PaymentScreenSuccessful  6217807653094995999 2019-07-25 11:48:42     248   \n",
       "\n",
       "  Evento_fecha  \n",
       "0   2019-07-25  \n",
       "1   2019-07-25  \n",
       "2   2019-07-25  \n",
       "3   2019-07-25  \n",
       "4   2019-07-25  "
      ]
     },
     "execution_count": 7,
     "metadata": {},
     "output_type": "execute_result"
    }
   ],
   "source": [
    "data.head()"
   ]
  },
  {
   "cell_type": "code",
   "execution_count": 8,
   "metadata": {},
   "outputs": [
    {
     "name": "stdout",
     "output_type": "stream",
     "text": [
      "Valores ausentes en Evento: 0\n",
      "Valores ausentes en usuarios: 0\n",
      "Valores ausentes en fecha-hora de evento: 0\n",
      "Valores ausentes en experimento: 0\n"
     ]
    }
   ],
   "source": [
    "print('Valores ausentes en Evento:',data['Evento'].isna().sum())\n",
    "print('Valores ausentes en usuarios:',data['Id_usuario'].isna().sum())\n",
    "print('Valores ausentes en fecha-hora de evento:',data['Evento_ts'].isna().sum())\n",
    "print('Valores ausentes en experimento:',data['Evento_ts'].isna().sum())"
   ]
  },
  {
   "cell_type": "markdown",
   "metadata": {},
   "source": [
    "_Se realizaron pruebas con los datos y modificaciones para su correcta manipulacion_"
   ]
  },
  {
   "cell_type": "markdown",
   "metadata": {},
   "source": [
    "## Estudiar y comprobar datos"
   ]
  },
  {
   "cell_type": "code",
   "execution_count": 9,
   "metadata": {},
   "outputs": [
    {
     "name": "stdout",
     "output_type": "stream",
     "text": [
      "Hay 5 cantidad(es) de evento(s) distintos\n",
      "Hay 7551 cantidad(es) de usuario(s) distintos\n"
     ]
    }
   ],
   "source": [
    "num_eventos = data['Evento'].nunique()\n",
    "print(f'Hay {num_eventos} cantidad(es) de evento(s) distintos')\n",
    "\n",
    "num_usuarios = data['Id_usuario'].nunique()\n",
    "print(f'Hay {num_usuarios} cantidad(es) de usuario(s) distintos')"
   ]
  },
  {
   "cell_type": "code",
   "execution_count": 10,
   "metadata": {},
   "outputs": [
    {
     "name": "stdout",
     "output_type": "stream",
     "text": [
      "El promedio de eventos por usuario es: 32.33028737915508\n"
     ]
    }
   ],
   "source": [
    "prom_eventxuser = data.shape[0] / num_usuarios\n",
    "print(f'El promedio de eventos por usuario es: {prom_eventxuser}')"
   ]
  },
  {
   "cell_type": "code",
   "execution_count": 11,
   "metadata": {},
   "outputs": [
    {
     "name": "stdout",
     "output_type": "stream",
     "text": [
      "El dataset cubre fechas desde el 2019-07-25, hasta el 2019-08-07\n"
     ]
    }
   ],
   "source": [
    "fecha_max = data['Evento_fecha'].max()\n",
    "fecha_min = data['Evento_fecha'].min()\n",
    "\n",
    "print(f'El dataset cubre fechas desde el {fecha_min}, hasta el {fecha_max}')"
   ]
  },
  {
   "cell_type": "markdown",
   "metadata": {},
   "source": [
    "### Histograma de datos"
   ]
  },
  {
   "cell_type": "code",
   "execution_count": 12,
   "metadata": {},
   "outputs": [
    {
     "data": {
      "image/png": "[encoded data removed]",
      "text/plain": [
       "<Figure size 1400x600 with 1 Axes>"
      ]
     },
     "metadata": {},
     "output_type": "display_data"
    }
   ],
   "source": [
    "data['fecha_hora'] = data['Evento_ts'].dt.floor('H')\n",
    "\n",
    "# Contar eventos por fecha y hora\n",
    "eventos_por_hora = data['fecha_hora'].value_counts().sort_index()\n",
    "\n",
    "# Graficar\n",
    "plt.figure(figsize=(14, 6))\n",
    "plt.plot(eventos_por_hora.index, eventos_por_hora.values, color='darkorange')\n",
    "plt.xticks(rotation=46)\n",
    "plt.xlabel('Fecha y hora')\n",
    "plt.ylabel('Cantidad de eventos')\n",
    "plt.title('Histograma de eventos por fecha y hora')\n",
    "plt.tight_layout()\n",
    "plt.show()"
   ]
  },
  {
   "cell_type": "code",
   "execution_count": 13,
   "metadata": {},
   "outputs": [
    {
     "data": {
      "image/png": "[encoded data removed]",
      "text/plain": [
       "<Figure size 1200x600 with 1 Axes>"
      ]
     },
     "metadata": {},
     "output_type": "display_data"
    }
   ],
   "source": [
    "eventos_por_fecha = data['Evento_fecha'].value_counts().sort_index()\n",
    "\n",
    "# Graficar\n",
    "plt.figure(figsize=(12, 6))\n",
    "plt.bar(eventos_por_fecha.index, eventos_por_fecha.values, color='mediumseagreen')\n",
    "plt.xticks(rotation=45)\n",
    "plt.xlabel('Fecha')\n",
    "plt.ylabel('Cantidad de eventos')\n",
    "plt.title('Histograma de eventos por fecha')\n",
    "plt.tight_layout()\n",
    "plt.show()"
   ]
  },
  {
   "cell_type": "markdown",
   "metadata": {},
   "source": [
    "_Podemos observar que los datos en mayores cantidades se encuentran a partir del primero de agosto, al 7 de agosto_\n",
    "\n",
    "_Del día 25 de septiembre al 31 de septiembre la cantidas es muy inferior, por lo que podrían entorpecer la investigación_"
   ]
  },
  {
   "cell_type": "code",
   "execution_count": 14,
   "metadata": {},
   "outputs": [
    {
     "name": "stdout",
     "output_type": "stream",
     "text": [
      "                       Evento           Id_usuario           Evento_ts  \\\n",
      "0            MainScreenAppear  4575588528974610257 2019-07-25 04:43:36   \n",
      "1            MainScreenAppear  7416695313311560658 2019-07-25 11:11:42   \n",
      "2     PaymentScreenSuccessful  3518123091307005509 2019-07-25 11:28:47   \n",
      "3            CartScreenAppear  3518123091307005509 2019-07-25 11:28:47   \n",
      "4     PaymentScreenSuccessful  6217807653094995999 2019-07-25 11:48:42   \n",
      "...                       ...                  ...                 ...   \n",
      "2823       OffersScreenAppear  2413191300976302222 2019-07-31 23:54:55   \n",
      "2824         MainScreenAppear  5505110279185484837 2019-07-31 23:57:30   \n",
      "2825         MainScreenAppear  5505110279185484837 2019-07-31 23:57:42   \n",
      "2826         MainScreenAppear  5505110279185484837 2019-07-31 23:57:52   \n",
      "2827         MainScreenAppear  2413191300976302222 2019-07-31 23:59:59   \n",
      "\n",
      "      Id_exp Evento_fecha          fecha_hora  \n",
      "0        246   2019-07-25 2019-07-25 04:00:00  \n",
      "1        246   2019-07-25 2019-07-25 11:00:00  \n",
      "2        248   2019-07-25 2019-07-25 11:00:00  \n",
      "3        248   2019-07-25 2019-07-25 11:00:00  \n",
      "4        248   2019-07-25 2019-07-25 11:00:00  \n",
      "...      ...          ...                 ...  \n",
      "2823     247   2019-07-31 2019-07-31 23:00:00  \n",
      "2824     247   2019-07-31 2019-07-31 23:00:00  \n",
      "2825     247   2019-07-31 2019-07-31 23:00:00  \n",
      "2826     247   2019-07-31 2019-07-31 23:00:00  \n",
      "2827     247   2019-07-31 2019-07-31 23:00:00  \n",
      "\n",
      "[2828 rows x 6 columns]\n"
     ]
    }
   ],
   "source": [
    "print(data[data['Evento_fecha'] < pd.to_datetime('2019-08-01')])"
   ]
  },
  {
   "cell_type": "code",
   "execution_count": 15,
   "metadata": {},
   "outputs": [],
   "source": [
    "##df con los datos a partir del 1 de agosto\n",
    "data_filt = data[data['Evento_fecha'] > pd.to_datetime('2019-07-31')]"
   ]
  },
  {
   "cell_type": "code",
   "execution_count": 16,
   "metadata": {},
   "outputs": [
    {
     "name": "stdout",
     "output_type": "stream",
     "text": [
      "La cantidad de usuarios unicos que no pasaron el filtro son:  17\n"
     ]
    }
   ],
   "source": [
    "\n",
    "##df con los eventos antes del 1 de agosto\n",
    "filter = data[data['Evento_fecha'] < pd.to_datetime('2019-08-01')]\n",
    "\n",
    "## lista con los usuarios dentro del filtro a excluir\n",
    "users_excl = filter['Id_usuario'].unique()\n",
    "\n",
    "## lista con los usuarios dentro del filtro que no se va a excluir\n",
    "users_data_filt = data_filt['Id_usuario'].unique()\n",
    "\n",
    "#Se buscaron a todos los usuarios dentro del filtro a excluir que no estuvieran en datos a partir del 1 de agosto\n",
    "filtro_user = [usuario for usuario in users_excl if usuario not in users_data_filt]\n",
    "\n",
    "\n",
    "cant_usuarios_excl = len(filtro_user)\n",
    "print(\"La cantidad de usuarios unicos que no pasaron el filtro son: \", cant_usuarios_excl )"
   ]
  },
  {
   "cell_type": "code",
   "execution_count": 17,
   "metadata": {},
   "outputs": [
    {
     "name": "stdout",
     "output_type": "stream",
     "text": [
      "La cantidad de usuarios unicos que no pasaron el filtro son:  0\n"
     ]
    }
   ],
   "source": [
    "\n",
    "## lista con los eventos dentro del filtro a excluir\n",
    "events_excl = filter['Evento'].unique()\n",
    "\n",
    "## lista con los eventos dentro del filtro que no se va a excluir\n",
    "event_data_filt = data_filt['Evento'].unique()\n",
    "\n",
    "#Se buscaron a todos los usuarios dentro del filtro a excluir que no estuvieran en datos a partir del 1 de agosto\n",
    "filtro_even = [evento for evento in events_excl if evento not in event_data_filt]\n",
    "\n",
    "\n",
    "cant_evento_excl = len(filtro_even)\n",
    "print(\"La cantidad de usuarios unicos que no pasaron el filtro son: \", cant_evento_excl )\n",
    "#events_excl"
   ]
  },
  {
   "cell_type": "code",
   "execution_count": 18,
   "metadata": {},
   "outputs": [
    {
     "name": "stdout",
     "output_type": "stream",
     "text": [
      "   Id_exp  Usuarios_count\n",
      "0     246           79425\n",
      "1     247           77147\n",
      "2     248           84726\n"
     ]
    }
   ],
   "source": [
    "conteo_eventos = data_filt.groupby('Id_exp')['Id_usuario'].count().reset_index(name='Usuarios_count')\n",
    "print(conteo_eventos)"
   ]
  },
  {
   "cell_type": "markdown",
   "metadata": {},
   "source": [
    "## Estudiar embudo de eventos"
   ]
  },
  {
   "cell_type": "code",
   "execution_count": 19,
   "metadata": {},
   "outputs": [
    {
     "data": {
      "text/plain": [
       "MainScreenAppear           117431\n",
       "OffersScreenAppear          46350\n",
       "CartScreenAppear            42365\n",
       "PaymentScreenSuccessful     34113\n",
       "Tutorial                     1039\n",
       "Name: Evento, dtype: int64"
      ]
     },
     "execution_count": 19,
     "metadata": {},
     "output_type": "execute_result"
    }
   ],
   "source": [
    "data_filt['Evento'].value_counts()"
   ]
  },
  {
   "cell_type": "markdown",
   "metadata": {},
   "source": [
    "_La cantidad de evento demuestra que lo que más sucede es que a la gente le aparece al principio el menu principal, eso es normal ya que podría decirse que es el \"Paso 1\"._\n",
    "\n",
    "_Algo tambien a tomar en cuenta como observación es que no todos realizan el Tutorial_"
   ]
  },
  {
   "cell_type": "code",
   "execution_count": 20,
   "metadata": {},
   "outputs": [],
   "source": [
    "\n",
    "user_events_df = data_filt.groupby('Evento')['Id_usuario'].nunique().reset_index(name = 'Usuarios')\n",
    "\n",
    "user_events_df = user_events_df.sort_values(by = 'Usuarios', ascending = False)\n"
   ]
  },
  {
   "cell_type": "code",
   "execution_count": 21,
   "metadata": {},
   "outputs": [
    {
     "data": {
      "text/html": [
       "<div>\n",
       "<style scoped>\n",
       "    .dataframe tbody tr th:only-of-type {\n",
       "        vertical-align: middle;\n",
       "    }\n",
       "\n",
       "    .dataframe tbody tr th {\n",
       "        vertical-align: top;\n",
       "    }\n",
       "\n",
       "    .dataframe thead th {\n",
       "        text-align: right;\n",
       "    }\n",
       "</style>\n",
       "<table border=\"1\" class=\"dataframe\">\n",
       "  <thead>\n",
       "    <tr style=\"text-align: right;\">\n",
       "      <th></th>\n",
       "      <th>Evento</th>\n",
       "      <th>Usuarios</th>\n",
       "      <th>%</th>\n",
       "    </tr>\n",
       "  </thead>\n",
       "  <tbody>\n",
       "    <tr>\n",
       "      <th>1</th>\n",
       "      <td>MainScreenAppear</td>\n",
       "      <td>7419</td>\n",
       "      <td>0.3686</td>\n",
       "    </tr>\n",
       "    <tr>\n",
       "      <th>2</th>\n",
       "      <td>OffersScreenAppear</td>\n",
       "      <td>4593</td>\n",
       "      <td>0.2282</td>\n",
       "    </tr>\n",
       "    <tr>\n",
       "      <th>0</th>\n",
       "      <td>CartScreenAppear</td>\n",
       "      <td>3734</td>\n",
       "      <td>0.1855</td>\n",
       "    </tr>\n",
       "    <tr>\n",
       "      <th>3</th>\n",
       "      <td>PaymentScreenSuccessful</td>\n",
       "      <td>3539</td>\n",
       "      <td>0.1759</td>\n",
       "    </tr>\n",
       "    <tr>\n",
       "      <th>4</th>\n",
       "      <td>Tutorial</td>\n",
       "      <td>840</td>\n",
       "      <td>0.0417</td>\n",
       "    </tr>\n",
       "  </tbody>\n",
       "</table>\n",
       "</div>"
      ],
      "text/plain": [
       "                    Evento  Usuarios      % \n",
       "1         MainScreenAppear      7419  0.3686\n",
       "2       OffersScreenAppear      4593  0.2282\n",
       "0         CartScreenAppear      3734  0.1855\n",
       "3  PaymentScreenSuccessful      3539  0.1759\n",
       "4                 Tutorial       840  0.0417"
      ]
     },
     "execution_count": 21,
     "metadata": {},
     "output_type": "execute_result"
    }
   ],
   "source": [
    "#Total de usuarios unicos 20,125\n",
    "user_events_df['% '] = round(user_events_df['Usuarios'] / 20125, 4)\n",
    "\n",
    "user_events_df"
   ]
  },
  {
   "cell_type": "markdown",
   "metadata": {},
   "source": [
    "_Considero que el orden ocurrio de la siguiente forma:_\n",
    "<ol>\n",
    "  <li>MainScreenAppear</li>\n",
    "  <li>OffersScreenAppear</li>\n",
    "  <li>CartScreenAppear</li>\n",
    "  <li>PaymentScrenSuccessful</li>\n",
    "</ol>\n",
    "\n",
    "_Considero que el Tutorial no entra dentro de la secuencia ya que se puede hacer en cualquier momento, no es necesario hacer el tutorial para agregar algo al carrito o para pagar y el hecho de que muchos no hicieron el tutorial lo confirma_"
   ]
  },
  {
   "cell_type": "code",
   "execution_count": 22,
   "metadata": {},
   "outputs": [],
   "source": [
    "events_steps = [\n",
    "    'MainScreenAppear',\n",
    "    'OffersScreenAppear', \n",
    "    'CartScreenAppear',\n",
    "    'PaymentScreenSuccessful'\n",
    "]\n",
    "\n",
    "users_per_step = {}\n",
    "for step in events_steps:\n",
    "    users_per_step[step] = data_filt[data_filt['Evento'] == step]['Id_usuario'].nunique()"
   ]
  },
  {
   "cell_type": "code",
   "execution_count": 23,
   "metadata": {},
   "outputs": [
    {
     "data": {
      "text/plain": [
       "{'MainScreenAppear': 7419,\n",
       " 'OffersScreenAppear': 4593,\n",
       " 'CartScreenAppear': 3734,\n",
       " 'PaymentScreenSuccessful': 3539}"
      ]
     },
     "execution_count": 23,
     "metadata": {},
     "output_type": "execute_result"
    }
   ],
   "source": [
    "users_per_step"
   ]
  },
  {
   "cell_type": "code",
   "execution_count": 24,
   "metadata": {},
   "outputs": [
    {
     "name": "stdout",
     "output_type": "stream",
     "text": [
      "Conversión MainScreen → OffersScreen: 61.91%\n"
     ]
    }
   ],
   "source": [
    "conversion_rate = (users_per_step['OffersScreenAppear'] / users_per_step['MainScreenAppear']) * 100\n",
    "\n",
    "print(f\"Conversión MainScreen → OffersScreen: {conversion_rate:.2f}%\")"
   ]
  },
  {
   "cell_type": "code",
   "execution_count": 25,
   "metadata": {},
   "outputs": [
    {
     "name": "stdout",
     "output_type": "stream",
     "text": [
      "Conversión OffersScreen → CartScreenAppear: 81.30%\n"
     ]
    }
   ],
   "source": [
    "conversion_rate = (users_per_step['CartScreenAppear'] / users_per_step['OffersScreenAppear']) * 100\n",
    "\n",
    "print(f\"Conversión OffersScreen → CartScreenAppear: {conversion_rate:.2f}%\")"
   ]
  },
  {
   "cell_type": "code",
   "execution_count": 26,
   "metadata": {},
   "outputs": [
    {
     "name": "stdout",
     "output_type": "stream",
     "text": [
      "Conversión CartScreenAppear → PaymentScreenSuccessful: 94.78%\n"
     ]
    }
   ],
   "source": [
    "\n",
    "conversion_rate = (users_per_step['PaymentScreenSuccessful'] / users_per_step['CartScreenAppear']) * 100\n",
    "\n",
    "print(f\"Conversión CartScreenAppear → PaymentScreenSuccessful: {conversion_rate:.2f}%\")\n"
   ]
  },
  {
   "cell_type": "code",
   "execution_count": 27,
   "metadata": {},
   "outputs": [
    {
     "name": "stdout",
     "output_type": "stream",
     "text": [
      "Conversión MainScreen  → PaymentScreenSuccessful: 47.70%\n"
     ]
    }
   ],
   "source": [
    "conversion_rate = (users_per_step['PaymentScreenSuccessful'] / users_per_step['MainScreenAppear']) * 100\n",
    "\n",
    "print(f\"Conversión MainScreen  → PaymentScreenSuccessful: {conversion_rate:.2f}%\")\n"
   ]
  },
  {
   "cell_type": "markdown",
   "metadata": {},
   "source": [
    "<b>Donde más se pierde la cantidad de usuarios es en el menú principal, una vez que se pasa a las ofertas las personas se 'comprometen' a realizar la compra. Es donde se debería de enfocar los esfuerzos en realizar una mejoría.</b>\n",
    "\n",
    "<b>El total de usuarios que pasaron desde el menu principal al pago exitoso fue del 47.70 lo cual aun asi no creo que sea una cantidad baja</b>"
   ]
  },
  {
   "cell_type": "markdown",
   "metadata": {},
   "source": [
    "## Estudiar los resultados del experimento"
   ]
  },
  {
   "cell_type": "code",
   "execution_count": 28,
   "metadata": {},
   "outputs": [],
   "source": [
    "exp_groups_df = data_filt.groupby('Id_exp')['Id_usuario'].nunique().reset_index(name = 'Usuarios')\n",
    "\n",
    "exp_groups_df = exp_groups_df.sort_values(by = 'Usuarios', ascending = False)"
   ]
  },
  {
   "cell_type": "code",
   "execution_count": 29,
   "metadata": {},
   "outputs": [
    {
     "data": {
      "text/html": [
       "<div>\n",
       "<style scoped>\n",
       "    .dataframe tbody tr th:only-of-type {\n",
       "        vertical-align: middle;\n",
       "    }\n",
       "\n",
       "    .dataframe tbody tr th {\n",
       "        vertical-align: top;\n",
       "    }\n",
       "\n",
       "    .dataframe thead th {\n",
       "        text-align: right;\n",
       "    }\n",
       "</style>\n",
       "<table border=\"1\" class=\"dataframe\">\n",
       "  <thead>\n",
       "    <tr style=\"text-align: right;\">\n",
       "      <th></th>\n",
       "      <th>Id_exp</th>\n",
       "      <th>Usuarios</th>\n",
       "    </tr>\n",
       "  </thead>\n",
       "  <tbody>\n",
       "    <tr>\n",
       "      <th>2</th>\n",
       "      <td>248</td>\n",
       "      <td>2537</td>\n",
       "    </tr>\n",
       "    <tr>\n",
       "      <th>1</th>\n",
       "      <td>247</td>\n",
       "      <td>2513</td>\n",
       "    </tr>\n",
       "    <tr>\n",
       "      <th>0</th>\n",
       "      <td>246</td>\n",
       "      <td>2484</td>\n",
       "    </tr>\n",
       "  </tbody>\n",
       "</table>\n",
       "</div>"
      ],
      "text/plain": [
       "   Id_exp  Usuarios\n",
       "2     248      2537\n",
       "1     247      2513\n",
       "0     246      2484"
      ]
     },
     "execution_count": 29,
     "metadata": {},
     "output_type": "execute_result"
    }
   ],
   "source": [
    "exp_groups_df"
   ]
  },
  {
   "cell_type": "code",
   "execution_count": 30,
   "metadata": {},
   "outputs": [
    {
     "data": {
      "text/html": [
       "<div>\n",
       "<style scoped>\n",
       "    .dataframe tbody tr th:only-of-type {\n",
       "        vertical-align: middle;\n",
       "    }\n",
       "\n",
       "    .dataframe tbody tr th {\n",
       "        vertical-align: top;\n",
       "    }\n",
       "\n",
       "    .dataframe thead th {\n",
       "        text-align: right;\n",
       "    }\n",
       "</style>\n",
       "<table border=\"1\" class=\"dataframe\">\n",
       "  <thead>\n",
       "    <tr style=\"text-align: right;\">\n",
       "      <th></th>\n",
       "      <th>Evento</th>\n",
       "      <th>Id_exp</th>\n",
       "      <th>Usuarios</th>\n",
       "    </tr>\n",
       "  </thead>\n",
       "  <tbody>\n",
       "    <tr>\n",
       "      <th>5</th>\n",
       "      <td>MainScreenAppear</td>\n",
       "      <td>248</td>\n",
       "      <td>2493</td>\n",
       "    </tr>\n",
       "    <tr>\n",
       "      <th>4</th>\n",
       "      <td>MainScreenAppear</td>\n",
       "      <td>247</td>\n",
       "      <td>2476</td>\n",
       "    </tr>\n",
       "    <tr>\n",
       "      <th>3</th>\n",
       "      <td>MainScreenAppear</td>\n",
       "      <td>246</td>\n",
       "      <td>2450</td>\n",
       "    </tr>\n",
       "    <tr>\n",
       "      <th>6</th>\n",
       "      <td>OffersScreenAppear</td>\n",
       "      <td>246</td>\n",
       "      <td>1542</td>\n",
       "    </tr>\n",
       "    <tr>\n",
       "      <th>8</th>\n",
       "      <td>OffersScreenAppear</td>\n",
       "      <td>248</td>\n",
       "      <td>1531</td>\n",
       "    </tr>\n",
       "    <tr>\n",
       "      <th>7</th>\n",
       "      <td>OffersScreenAppear</td>\n",
       "      <td>247</td>\n",
       "      <td>1520</td>\n",
       "    </tr>\n",
       "    <tr>\n",
       "      <th>0</th>\n",
       "      <td>CartScreenAppear</td>\n",
       "      <td>246</td>\n",
       "      <td>1266</td>\n",
       "    </tr>\n",
       "    <tr>\n",
       "      <th>1</th>\n",
       "      <td>CartScreenAppear</td>\n",
       "      <td>247</td>\n",
       "      <td>1238</td>\n",
       "    </tr>\n",
       "    <tr>\n",
       "      <th>2</th>\n",
       "      <td>CartScreenAppear</td>\n",
       "      <td>248</td>\n",
       "      <td>1230</td>\n",
       "    </tr>\n",
       "    <tr>\n",
       "      <th>9</th>\n",
       "      <td>PaymentScreenSuccessful</td>\n",
       "      <td>246</td>\n",
       "      <td>1200</td>\n",
       "    </tr>\n",
       "    <tr>\n",
       "      <th>11</th>\n",
       "      <td>PaymentScreenSuccessful</td>\n",
       "      <td>248</td>\n",
       "      <td>1181</td>\n",
       "    </tr>\n",
       "    <tr>\n",
       "      <th>10</th>\n",
       "      <td>PaymentScreenSuccessful</td>\n",
       "      <td>247</td>\n",
       "      <td>1158</td>\n",
       "    </tr>\n",
       "    <tr>\n",
       "      <th>13</th>\n",
       "      <td>Tutorial</td>\n",
       "      <td>247</td>\n",
       "      <td>283</td>\n",
       "    </tr>\n",
       "    <tr>\n",
       "      <th>14</th>\n",
       "      <td>Tutorial</td>\n",
       "      <td>248</td>\n",
       "      <td>279</td>\n",
       "    </tr>\n",
       "    <tr>\n",
       "      <th>12</th>\n",
       "      <td>Tutorial</td>\n",
       "      <td>246</td>\n",
       "      <td>278</td>\n",
       "    </tr>\n",
       "  </tbody>\n",
       "</table>\n",
       "</div>"
      ],
      "text/plain": [
       "                     Evento  Id_exp  Usuarios\n",
       "5          MainScreenAppear     248      2493\n",
       "4          MainScreenAppear     247      2476\n",
       "3          MainScreenAppear     246      2450\n",
       "6        OffersScreenAppear     246      1542\n",
       "8        OffersScreenAppear     248      1531\n",
       "7        OffersScreenAppear     247      1520\n",
       "0          CartScreenAppear     246      1266\n",
       "1          CartScreenAppear     247      1238\n",
       "2          CartScreenAppear     248      1230\n",
       "9   PaymentScreenSuccessful     246      1200\n",
       "11  PaymentScreenSuccessful     248      1181\n",
       "10  PaymentScreenSuccessful     247      1158\n",
       "13                 Tutorial     247       283\n",
       "14                 Tutorial     248       279\n",
       "12                 Tutorial     246       278"
      ]
     },
     "execution_count": 30,
     "metadata": {},
     "output_type": "execute_result"
    }
   ],
   "source": [
    "user_events_df = data_filt.groupby(['Evento','Id_exp'])['Id_usuario'].nunique().reset_index(name = 'Usuarios')\n",
    "\n",
    "user_events_df = user_events_df.sort_values(by = 'Usuarios', ascending = False)\n",
    "\n",
    "user_events_df\n"
   ]
  },
  {
   "cell_type": "markdown",
   "metadata": {},
   "source": [
    "### Prueba A/A"
   ]
  },
  {
   "cell_type": "markdown",
   "metadata": {},
   "source": [
    "_Se realizo una prueba de Z valores_"
   ]
  },
  {
   "cell_type": "code",
   "execution_count": 31,
   "metadata": {},
   "outputs": [
    {
     "name": "stdout",
     "output_type": "stream",
     "text": [
      "p-value:  0.2622344959255778\n",
      "No se pudo rechazar la hipótesis nula: no hay razón para pensar que las proporciones son diferentes\n"
     ]
    }
   ],
   "source": [
    "alpha = .05 # nivel de significación\n",
    "\n",
    "\n",
    "offers_menu = np.array([1542, 1520])\n",
    "main_menu = np.array([2450, 2476]) \n",
    "# De los 2,450 usuarios en el grupo 246, 1542 usuarios pasaron a la pantalla de ofertas\n",
    "# De los 2,476 usuarios en el grupo 247, 1520 usuarios pasaro a la pantalla de ofertas\n",
    "\n",
    "# escribe tu código aquí\n",
    "p1 = offers_menu[0] / main_menu[0]\n",
    "p2 = offers_menu[1] / main_menu[1]\n",
    "\n",
    "p_combined = (offers_menu[0] + offers_menu[1]) / (main_menu[0] + main_menu[1])\n",
    "\n",
    "difference = p1 - p2\n",
    "\n",
    "z_value = difference / mth.sqrt(p_combined * (1-p_combined) * (1/main_menu[0] + 1/main_menu[1])) # escribe tu código aquí\n",
    "\n",
    "distr = st.norm(0,1)\n",
    "\n",
    "# escribe tu código aquí\n",
    "p_value = (1-distr.cdf(abs(z_value))) * 2\n",
    "\n",
    "print('p-value: ', p_value)\n",
    "\n",
    "if (p_value < alpha):\n",
    "    print(\"Rechazar la hipótesis nula: hay una diferencia significativa entre las proporciones\")\n",
    "else:\n",
    "    print(\"No se pudo rechazar la hipótesis nula: no hay razón para pensar que las proporciones son diferentes\")\n"
   ]
  },
  {
   "cell_type": "code",
   "execution_count": 32,
   "metadata": {},
   "outputs": [],
   "source": [
    "data_246 = data_filt[(data_filt['Id_exp'].isin([246])) & (~data_filt['Evento'].isin(['Tutorial']))]\n",
    "\n",
    "data_247 = data_filt[(data_filt['Id_exp'].isin([247])) & (~data_filt['Evento'].isin(['Tutorial']))]\n",
    "\n",
    "data_248 = data_filt[(data_filt['Id_exp'].isin([248])) & (~data_filt['Evento'].isin(['Tutorial']))]"
   ]
  },
  {
   "cell_type": "code",
   "execution_count": 33,
   "metadata": {},
   "outputs": [],
   "source": [
    "data_events246 = data_246.groupby('Evento')['Id_usuario'].nunique().reset_index(name = 'Usuarios').sort_values(by = 'Usuarios', ascending = False)\n",
    "data_events247 = data_247.groupby('Evento')['Id_usuario'].nunique().reset_index(name = 'Usuarios').sort_values(by = 'Usuarios', ascending = False)\n",
    "data_events248 = data_248.groupby('Evento')['Id_usuario'].nunique().reset_index(name = 'Usuarios').sort_values(by = 'Usuarios', ascending = False)"
   ]
  },
  {
   "cell_type": "code",
   "execution_count": 34,
   "metadata": {},
   "outputs": [
    {
     "data": {
      "text/html": [
       "<div>\n",
       "<style scoped>\n",
       "    .dataframe tbody tr th:only-of-type {\n",
       "        vertical-align: middle;\n",
       "    }\n",
       "\n",
       "    .dataframe tbody tr th {\n",
       "        vertical-align: top;\n",
       "    }\n",
       "\n",
       "    .dataframe thead th {\n",
       "        text-align: right;\n",
       "    }\n",
       "</style>\n",
       "<table border=\"1\" class=\"dataframe\">\n",
       "  <thead>\n",
       "    <tr style=\"text-align: right;\">\n",
       "      <th></th>\n",
       "      <th>Evento</th>\n",
       "      <th>Usuarios</th>\n",
       "    </tr>\n",
       "  </thead>\n",
       "  <tbody>\n",
       "    <tr>\n",
       "      <th>1</th>\n",
       "      <td>MainScreenAppear</td>\n",
       "      <td>2450</td>\n",
       "    </tr>\n",
       "    <tr>\n",
       "      <th>2</th>\n",
       "      <td>OffersScreenAppear</td>\n",
       "      <td>1542</td>\n",
       "    </tr>\n",
       "    <tr>\n",
       "      <th>0</th>\n",
       "      <td>CartScreenAppear</td>\n",
       "      <td>1266</td>\n",
       "    </tr>\n",
       "    <tr>\n",
       "      <th>3</th>\n",
       "      <td>PaymentScreenSuccessful</td>\n",
       "      <td>1200</td>\n",
       "    </tr>\n",
       "  </tbody>\n",
       "</table>\n",
       "</div>"
      ],
      "text/plain": [
       "                    Evento  Usuarios\n",
       "1         MainScreenAppear      2450\n",
       "2       OffersScreenAppear      1542\n",
       "0         CartScreenAppear      1266\n",
       "3  PaymentScreenSuccessful      1200"
      ]
     },
     "execution_count": 34,
     "metadata": {},
     "output_type": "execute_result"
    }
   ],
   "source": [
    "data_events246"
   ]
  },
  {
   "cell_type": "code",
   "execution_count": 35,
   "metadata": {},
   "outputs": [
    {
     "data": {
      "text/html": [
       "<div>\n",
       "<style scoped>\n",
       "    .dataframe tbody tr th:only-of-type {\n",
       "        vertical-align: middle;\n",
       "    }\n",
       "\n",
       "    .dataframe tbody tr th {\n",
       "        vertical-align: top;\n",
       "    }\n",
       "\n",
       "    .dataframe thead th {\n",
       "        text-align: right;\n",
       "    }\n",
       "</style>\n",
       "<table border=\"1\" class=\"dataframe\">\n",
       "  <thead>\n",
       "    <tr style=\"text-align: right;\">\n",
       "      <th></th>\n",
       "      <th>Evento</th>\n",
       "      <th>Usuarios</th>\n",
       "    </tr>\n",
       "  </thead>\n",
       "  <tbody>\n",
       "    <tr>\n",
       "      <th>1</th>\n",
       "      <td>MainScreenAppear</td>\n",
       "      <td>2476</td>\n",
       "    </tr>\n",
       "    <tr>\n",
       "      <th>2</th>\n",
       "      <td>OffersScreenAppear</td>\n",
       "      <td>1520</td>\n",
       "    </tr>\n",
       "    <tr>\n",
       "      <th>0</th>\n",
       "      <td>CartScreenAppear</td>\n",
       "      <td>1238</td>\n",
       "    </tr>\n",
       "    <tr>\n",
       "      <th>3</th>\n",
       "      <td>PaymentScreenSuccessful</td>\n",
       "      <td>1158</td>\n",
       "    </tr>\n",
       "  </tbody>\n",
       "</table>\n",
       "</div>"
      ],
      "text/plain": [
       "                    Evento  Usuarios\n",
       "1         MainScreenAppear      2476\n",
       "2       OffersScreenAppear      1520\n",
       "0         CartScreenAppear      1238\n",
       "3  PaymentScreenSuccessful      1158"
      ]
     },
     "execution_count": 35,
     "metadata": {},
     "output_type": "execute_result"
    }
   ],
   "source": [
    "data_events247"
   ]
  },
  {
   "cell_type": "code",
   "execution_count": 36,
   "metadata": {},
   "outputs": [
    {
     "data": {
      "text/html": [
       "<div>\n",
       "<style scoped>\n",
       "    .dataframe tbody tr th:only-of-type {\n",
       "        vertical-align: middle;\n",
       "    }\n",
       "\n",
       "    .dataframe tbody tr th {\n",
       "        vertical-align: top;\n",
       "    }\n",
       "\n",
       "    .dataframe thead th {\n",
       "        text-align: right;\n",
       "    }\n",
       "</style>\n",
       "<table border=\"1\" class=\"dataframe\">\n",
       "  <thead>\n",
       "    <tr style=\"text-align: right;\">\n",
       "      <th></th>\n",
       "      <th>Evento</th>\n",
       "      <th>Usuarios</th>\n",
       "    </tr>\n",
       "  </thead>\n",
       "  <tbody>\n",
       "    <tr>\n",
       "      <th>1</th>\n",
       "      <td>MainScreenAppear</td>\n",
       "      <td>2493</td>\n",
       "    </tr>\n",
       "    <tr>\n",
       "      <th>2</th>\n",
       "      <td>OffersScreenAppear</td>\n",
       "      <td>1531</td>\n",
       "    </tr>\n",
       "    <tr>\n",
       "      <th>0</th>\n",
       "      <td>CartScreenAppear</td>\n",
       "      <td>1230</td>\n",
       "    </tr>\n",
       "    <tr>\n",
       "      <th>3</th>\n",
       "      <td>PaymentScreenSuccessful</td>\n",
       "      <td>1181</td>\n",
       "    </tr>\n",
       "  </tbody>\n",
       "</table>\n",
       "</div>"
      ],
      "text/plain": [
       "                    Evento  Usuarios\n",
       "1         MainScreenAppear      2493\n",
       "2       OffersScreenAppear      1531\n",
       "0         CartScreenAppear      1230\n",
       "3  PaymentScreenSuccessful      1181"
      ]
     },
     "execution_count": 36,
     "metadata": {},
     "output_type": "execute_result"
    }
   ],
   "source": [
    "data_events248"
   ]
  },
  {
   "cell_type": "markdown",
   "metadata": {},
   "source": [
    "#### Funcion"
   ]
  },
  {
   "cell_type": "code",
   "execution_count": 37,
   "metadata": {},
   "outputs": [],
   "source": [
    "def comparar_tasas_conversion(exitos_grupoA, total_grupoA, exitos_grupoB, total_grupoB, alpha, grupoA, grupoB):\n",
    "    \"\"\"\n",
    "    Realiza un test de proporciones Z para comparar las tasas de conversión\n",
    "    entre dos grupos (A y B).\n",
    "\n",
    "    Args:\n",
    "        exitos_grupoA (int): Cantidad de usuarios que pasaron al siguiente paso en el grupo A.\n",
    "        total_grupoA (int): Cantidad total de usuarios en el paso anterior del grupo A.\n",
    "        exitos_grupoB (int): Cantidad de usuarios que pasaron al siguiente paso en el grupo B.\n",
    "        total_grupoB (int): Cantidad total de usuarios en el paso anterior del grupo B.\n",
    "        alpha (float): Nivel de significancia (ej. 0.05).\n",
    "        grupoA (object): Grupo de prueba\n",
    "        grupoB (object): Grupo de prueba\n",
    "\n",
    "    Returns:\n",
    "        str: El resultado de la prueba de hipótesis.\n",
    "    \"\"\"\n",
    "\n",
    "    print(f'Grupos de prueba: {grupoA} y {grupoB}')\n",
    "    \n",
    "    # Se crea un array con el número de \"éxitos\" (usuarios que pasaron)\n",
    "    counts = np.array([exitos_grupoA, exitos_grupoB])\n",
    "    \n",
    "    # Se crea un array con el tamaño de las muestras (usuarios totales)\n",
    "    nobs = np.array([total_grupoA, total_grupoB])\n",
    "    \n",
    "    # Se realiza el test Z de proporciones\n",
    "    z_stat, p_value = proportions_ztest(counts, nobs=nobs, alternative='two-sided')\n",
    "    \n",
    "    print(f'Estadístico Z: {z_stat:.4f}')\n",
    "    print(f'p-value: {p_value:.4f}')\n",
    "    \n",
    "    # Se evalúa el p-value para tomar una decisión\n",
    "    if p_value < alpha:\n",
    "        return \"Se rechaza la hipótesis nula: existe una diferencia significativa en las tasas de conversión.\"\n",
    "    else:\n",
    "        return \"No se puede rechazar la hipótesis nula: no hay evidencia de una diferencia significativa.\""
   ]
  },
  {
   "cell_type": "markdown",
   "metadata": {
    "jp-MarkdownHeadingCollapsed": true
   },
   "source": [
    "### Comparacion entre grupo 246 y 247"
   ]
  },
  {
   "cell_type": "code",
   "execution_count": 38,
   "metadata": {},
   "outputs": [
    {
     "name": "stdout",
     "output_type": "stream",
     "text": [
      "Grupos de prueba: 246 y 247\n",
      "Estadístico Z: 1.1211\n",
      "p-value: 0.2622\n",
      "No se puede rechazar la hipótesis nula: no hay evidencia de una diferencia significativa.\n"
     ]
    }
   ],
   "source": [
    "##Comparacion entre el paso 1 y 2\n",
    "resultado = comparar_tasas_conversion(exitos_grupoA=1542, total_grupoA=2450, \n",
    "                                      exitos_grupoB=1520, total_grupoB=2476, \n",
    "                                      alpha=0.05, grupoA = '246', grupoB = '247')\n",
    "print(resultado)"
   ]
  },
  {
   "cell_type": "code",
   "execution_count": 39,
   "metadata": {},
   "outputs": [
    {
     "name": "stdout",
     "output_type": "stream",
     "text": [
      "Grupos de prueba: 246 y 247\n",
      "Estadístico Z: 0.4686\n",
      "p-value: 0.6394\n",
      "No se puede rechazar la hipótesis nula: no hay evidencia de una diferencia significativa.\n"
     ]
    }
   ],
   "source": [
    "##Comparacion entre el paso 2 y 3\n",
    "resultado = comparar_tasas_conversion(exitos_grupoA=1266, total_grupoA=1542, \n",
    "                                      exitos_grupoB=1238, total_grupoB=1520, \n",
    "                                      alpha=0.05, grupoA = '246', grupoB = '247')\n",
    "print(resultado)"
   ]
  },
  {
   "cell_type": "code",
   "execution_count": 40,
   "metadata": {},
   "outputs": [
    {
     "name": "stdout",
     "output_type": "stream",
     "text": [
      "Grupos de prueba: 246 y 247\n",
      "Estadístico Z: 1.3333\n",
      "p-value: 0.1824\n",
      "No se puede rechazar la hipótesis nula: no hay evidencia de una diferencia significativa.\n"
     ]
    }
   ],
   "source": [
    "##Comparacion entre el paso 3 y 4\n",
    "resultado = comparar_tasas_conversion(exitos_grupoA=1200, total_grupoA=1266, \n",
    "                                      exitos_grupoB=1158, total_grupoB=1238, \n",
    "                                      alpha=0.05, grupoA = '246', grupoB ='247')\n",
    "print(resultado)"
   ]
  },
  {
   "cell_type": "markdown",
   "metadata": {},
   "source": [
    "### Comparacion del grupo 248 con los de control (246 y 247) "
   ]
  },
  {
   "cell_type": "markdown",
   "metadata": {
    "jp-MarkdownHeadingCollapsed": true
   },
   "source": [
    "#### 248 vs 246"
   ]
  },
  {
   "cell_type": "code",
   "execution_count": 41,
   "metadata": {},
   "outputs": [
    {
     "name": "stdout",
     "output_type": "stream",
     "text": [
      "Grupos de prueba: 246 y 248\n",
      "Estadístico Z: 1.1067\n",
      "p-value: 0.2684\n",
      "No se puede rechazar la hipótesis nula: no hay evidencia de una diferencia significativa.\n"
     ]
    }
   ],
   "source": [
    "##Comparacion entre el paso 1 y 2\n",
    "resultado = comparar_tasas_conversion(exitos_grupoA=1542, total_grupoA=2450, \n",
    "                                      exitos_grupoB=1531, total_grupoB=2493, \n",
    "                                      alpha=0.05, grupoA = '246', grupoB = '248')\n",
    "print(resultado)"
   ]
  },
  {
   "cell_type": "code",
   "execution_count": 42,
   "metadata": {},
   "outputs": [
    {
     "name": "stdout",
     "output_type": "stream",
     "text": [
      "Grupos de prueba: 246 y 248\n",
      "Estadístico Z: 1.2502\n",
      "p-value: 0.2112\n",
      "No se puede rechazar la hipótesis nula: no hay evidencia de una diferencia significativa.\n"
     ]
    }
   ],
   "source": [
    "\n",
    "##Comparacion entre el paso 2 y 3\n",
    "resultado = comparar_tasas_conversion(exitos_grupoA=1266, total_grupoA=1542, \n",
    "                                      exitos_grupoB=1230, total_grupoB=1531, \n",
    "                                      alpha=0.05, grupoA = '246', grupoB = '248')\n",
    "print(resultado)\n"
   ]
  },
  {
   "cell_type": "code",
   "execution_count": 43,
   "metadata": {},
   "outputs": [
    {
     "name": "stdout",
     "output_type": "stream",
     "text": [
      "Grupos de prueba: 246 y 248\n",
      "Estadístico Z: -1.4649\n",
      "p-value: 0.1430\n",
      "No se puede rechazar la hipótesis nula: no hay evidencia de una diferencia significativa.\n"
     ]
    }
   ],
   "source": [
    "\n",
    "##Comparacion entre el paso 3 y 4\n",
    "resultado = comparar_tasas_conversion(exitos_grupoA=1200, total_grupoA=1266, \n",
    "                                      exitos_grupoB=1181, total_grupoB=1230, \n",
    "                                      alpha=0.05, grupoA = '246', grupoB = '248')\n",
    "print(resultado)\n"
   ]
  },
  {
   "cell_type": "markdown",
   "metadata": {
    "jp-MarkdownHeadingCollapsed": true
   },
   "source": [
    "#### 248 vs 247"
   ]
  },
  {
   "cell_type": "code",
   "execution_count": 44,
   "metadata": {},
   "outputs": [
    {
     "name": "stdout",
     "output_type": "stream",
     "text": [
      "Grupos de prueba: 247 y 248\n",
      "Estadístico Z: -0.0164\n",
      "p-value: 0.9869\n",
      "No se puede rechazar la hipótesis nula: no hay evidencia de una diferencia significativa.\n"
     ]
    }
   ],
   "source": [
    "##Comparacion entre los pasos 1 y 2\n",
    "resultado = comparar_tasas_conversion(exitos_grupoA=1520, total_grupoA=2476, \n",
    "                                      exitos_grupoB=1531, total_grupoB=2493, \n",
    "                                      alpha=0.1, grupoA = '247', grupoB = '248')\n",
    "print(resultado)\n"
   ]
  },
  {
   "cell_type": "code",
   "execution_count": 45,
   "metadata": {},
   "outputs": [
    {
     "name": "stdout",
     "output_type": "stream",
     "text": [
      "Grupos de prueba: 247 y 248\n",
      "Estadístico Z: 0.7781\n",
      "p-value: 0.4365\n",
      "No se puede rechazar la hipótesis nula: no hay evidencia de una diferencia significativa.\n"
     ]
    }
   ],
   "source": [
    "\n",
    "##Comparacion entre el paso 2 y 3\n",
    "resultado = comparar_tasas_conversion(exitos_grupoA=1238, total_grupoA=1520, \n",
    "                                      exitos_grupoB=1230, total_grupoB=1531, \n",
    "                                      alpha=0.1, grupoA = '247', grupoB = '248')\n",
    "print(resultado)\n"
   ]
  },
  {
   "cell_type": "code",
   "execution_count": 46,
   "metadata": {},
   "outputs": [
    {
     "name": "stdout",
     "output_type": "stream",
     "text": [
      "Grupos de prueba: 247 y 248\n",
      "Estadístico Z: -2.7658\n",
      "p-value: 0.0057\n",
      "Se rechaza la hipótesis nula: existe una diferencia significativa en las tasas de conversión.\n"
     ]
    }
   ],
   "source": [
    "##Comparacion entre el paso 3 y 4\n",
    "resultado = comparar_tasas_conversion(exitos_grupoA=1158, total_grupoA=1238, \n",
    "                                      exitos_grupoB=1181, total_grupoB=1230, \n",
    "                                      alpha=0.1, grupoA = '247', grupoB = '248')\n",
    "print(resultado)"
   ]
  },
  {
   "cell_type": "markdown",
   "metadata": {},
   "source": [
    "### Grupo de control vs grupo de fuente alterada"
   ]
  },
  {
   "cell_type": "code",
   "execution_count": 47,
   "metadata": {},
   "outputs": [],
   "source": [
    "data_control = data_filt[(data_filt['Id_exp'].isin([246, 247])) & (~data_filt['Evento'].isin(['Tutorial']))]\n",
    "data_eventscontrol = data_control.groupby('Evento')['Id_usuario'].nunique().reset_index(name = 'Usuarios').sort_values(by = 'Usuarios', ascending = False)"
   ]
  },
  {
   "cell_type": "code",
   "execution_count": 48,
   "metadata": {},
   "outputs": [
    {
     "data": {
      "text/html": [
       "<div>\n",
       "<style scoped>\n",
       "    .dataframe tbody tr th:only-of-type {\n",
       "        vertical-align: middle;\n",
       "    }\n",
       "\n",
       "    .dataframe tbody tr th {\n",
       "        vertical-align: top;\n",
       "    }\n",
       "\n",
       "    .dataframe thead th {\n",
       "        text-align: right;\n",
       "    }\n",
       "</style>\n",
       "<table border=\"1\" class=\"dataframe\">\n",
       "  <thead>\n",
       "    <tr style=\"text-align: right;\">\n",
       "      <th></th>\n",
       "      <th>Evento</th>\n",
       "      <th>Usuarios</th>\n",
       "    </tr>\n",
       "  </thead>\n",
       "  <tbody>\n",
       "    <tr>\n",
       "      <th>1</th>\n",
       "      <td>MainScreenAppear</td>\n",
       "      <td>4926</td>\n",
       "    </tr>\n",
       "    <tr>\n",
       "      <th>2</th>\n",
       "      <td>OffersScreenAppear</td>\n",
       "      <td>3062</td>\n",
       "    </tr>\n",
       "    <tr>\n",
       "      <th>0</th>\n",
       "      <td>CartScreenAppear</td>\n",
       "      <td>2504</td>\n",
       "    </tr>\n",
       "    <tr>\n",
       "      <th>3</th>\n",
       "      <td>PaymentScreenSuccessful</td>\n",
       "      <td>2358</td>\n",
       "    </tr>\n",
       "  </tbody>\n",
       "</table>\n",
       "</div>"
      ],
      "text/plain": [
       "                    Evento  Usuarios\n",
       "1         MainScreenAppear      4926\n",
       "2       OffersScreenAppear      3062\n",
       "0         CartScreenAppear      2504\n",
       "3  PaymentScreenSuccessful      2358"
      ]
     },
     "execution_count": 48,
     "metadata": {},
     "output_type": "execute_result"
    }
   ],
   "source": [
    "data_eventscontrol"
   ]
  },
  {
   "cell_type": "code",
   "execution_count": 49,
   "metadata": {},
   "outputs": [
    {
     "name": "stdout",
     "output_type": "stream",
     "text": [
      "Grupos de prueba: Control y 248\n",
      "Estadístico Z: 0.6267\n",
      "p-value: 0.5309\n",
      "No se puede rechazar la hipótesis nula: no hay evidencia de una diferencia significativa.\n"
     ]
    }
   ],
   "source": [
    "##Comparacion entre los pasos 1 y 2\n",
    "resultado = comparar_tasas_conversion(exitos_grupoA=3062, total_grupoA=4926, \n",
    "                                      exitos_grupoB=1531, total_grupoB=2493, \n",
    "                                      alpha=0.1, grupoA = 'Control', grupoB = '248')\n",
    "print(resultado)"
   ]
  },
  {
   "cell_type": "code",
   "execution_count": 50,
   "metadata": {},
   "outputs": [
    {
     "name": "stdout",
     "output_type": "stream",
     "text": [
      "Grupos de prueba: 247 y 248\n",
      "Estadístico Z: 1.1773\n",
      "p-value: 0.2391\n",
      "No se puede rechazar la hipótesis nula: no hay evidencia de una diferencia significativa.\n"
     ]
    }
   ],
   "source": [
    "##Comparacion entre el paso 2 y 3\n",
    "resultado = comparar_tasas_conversion(exitos_grupoA=2504, total_grupoA=3062, \n",
    "                                      exitos_grupoB=1230, total_grupoB=1531, \n",
    "                                      alpha=0.1, grupoA = '247', grupoB = '248')\n",
    "print(resultado)\n"
   ]
  },
  {
   "cell_type": "code",
   "execution_count": 51,
   "metadata": {},
   "outputs": [
    {
     "name": "stdout",
     "output_type": "stream",
     "text": [
      "Grupos de prueba: 247 y 248\n",
      "Estadístico Z: -2.3842\n",
      "p-value: 0.0171\n",
      "No se puede rechazar la hipótesis nula: no hay evidencia de una diferencia significativa.\n"
     ]
    }
   ],
   "source": [
    "##Comparacion entre el paso 3 y 4\n",
    "resultado = comparar_tasas_conversion(exitos_grupoA=2358, total_grupoA=2504, \n",
    "                                      exitos_grupoB=1181, total_grupoB=1230, \n",
    "                                      alpha=0.01, grupoA = '247', grupoB = '248')\n",
    "print(resultado)"
   ]
  },
  {
   "cell_type": "markdown",
   "metadata": {},
   "source": [
    "<b>La comparacion nos demuestra que del paso 3 al 4 se muestra una diferencia significativa en la tasa de conversion entre los grupos de control y el grupo alterado</b>\n",
    "\n",
    "<b>Estos pasos son del procedimiento de estar en la pantalla del carrito a realizar el pago exitosamente</b>"
   ]
  },
  {
   "cell_type": "markdown",
   "metadata": {},
   "source": [
    "Pudimos observar en la comparacion del grupo de control 247 vs el 248, como la tasa de conversion del grupo de fuente alterada es más efectiva que la del grupo de control"
   ]
  },
  {
   "cell_type": "markdown",
   "metadata": {},
   "source": [
    "Se decidio usar el valor de significancia 0.1 observe en internet que los más usados son el 0.05, el 0.1 y el 0.01, la cantidad de datos no es tan grande por lo que siento que con el 0.1 evitariamos un falso negativo"
   ]
  }
 ],
 "metadata": {
  "kernelspec": {
   "display_name": "Python 3 (ipykernel)",
   "language": "python",
   "name": "python3"
  },
  "language_info": {
   "codemirror_mode": {
    "name": "ipython",
    "version": 3
   },
   "file_extension": ".py",
   "mimetype": "text/x-python",
   "name": "python",
   "nbconvert_exporter": "python",
   "pygments_lexer": "ipython3",
   "version": "3.9.23"
  }
 },
 "nbformat": 4,
 "nbformat_minor": 4
}
